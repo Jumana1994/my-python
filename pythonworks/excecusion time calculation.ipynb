{
 "cells": [
  {
   "cell_type": "code",
   "execution_count": 8,
   "id": "881643a8-3b2f-43a6-9ec2-89ac651e7c88",
   "metadata": {},
   "outputs": [
    {
     "name": "stdout",
     "output_type": "stream",
     "text": [
      " AIT\n"
     ]
    }
   ],
   "source": [
    "# program to find acronym\n",
    "a=\" \"\n",
    "word=\"Artificial Intelligence Technique\"\n",
    "text=word.split()\n",
    "for i in text:\n",
    "    a=(a+str(i[0])).upper()\n",
    "print(a)\n"
   ]
  },
  {
   "cell_type": "code",
   "execution_count": 10,
   "id": "371fde5a-4874-49c0-9eec-2b232a9a6c0d",
   "metadata": {},
   "outputs": [
    {
     "name": "stdout",
     "output_type": "stream",
     "text": [
      " AIT\n",
      "time= 0.0010008811950683594\n"
     ]
    }
   ],
   "source": [
    "from time import time\n",
    "start=time()\n",
    "a=\" \"\n",
    "word=\"Artificial Intelligence Technique\"\n",
    "text=word.split()\n",
    "for i in text:\n",
    "    a=(a+str(i[0])).upper()\n",
    "print(a)\n",
    "end=time()\n",
    "excecution_time=end-start\n",
    "print(\"time=\",excecution_time)"
   ]
  },
  {
   "cell_type": "code",
   "execution_count": null,
   "id": "e7a91c97-8c1d-437a-8d8a-2465d22e77c5",
   "metadata": {},
   "outputs": [],
   "source": []
  }
 ],
 "metadata": {
  "kernelspec": {
   "display_name": "Python 3 (ipykernel)",
   "language": "python",
   "name": "python3"
  },
  "language_info": {
   "codemirror_mode": {
    "name": "ipython",
    "version": 3
   },
   "file_extension": ".py",
   "mimetype": "text/x-python",
   "name": "python",
   "nbconvert_exporter": "python",
   "pygments_lexer": "ipython3",
   "version": "3.9.7"
  }
 },
 "nbformat": 4,
 "nbformat_minor": 5
}
