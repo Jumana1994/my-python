{
 "cells": [
  {
   "cell_type": "code",
   "execution_count": 1,
   "id": "090741a0-5378-44a7-a7ef-7874a2c3f96d",
   "metadata": {},
   "outputs": [
    {
     "name": "stdout",
     "output_type": "stream",
     "text": [
      "Collecting pypdf2Note: you may need to restart the kernel to use updated packages.\n",
      "  Using cached PyPDF2-2.4.1-py3-none-any.whl (198 kB)\n",
      "Requirement already satisfied: typing-extensions in c:\\anaconda\\lib\\site-packages (from pypdf2) (3.10.0.2)\n",
      "Installing collected packages: pypdf2\n",
      "Successfully installed pypdf2-2.4.1\n",
      "\n"
     ]
    }
   ],
   "source": [
    "pip install pypdf2"
   ]
  },
  {
   "cell_type": "code",
   "execution_count": 2,
   "id": "b19ec23c-2f70-4b78-aeb3-ee6ca37f1951",
   "metadata": {},
   "outputs": [
    {
     "name": "stdout",
     "output_type": "stream",
     "text": [
      " \n",
      " Page \n",
      "1\n",
      " \n",
      "of \n",
      "2\n",
      " \n",
      " \n",
      "\n",
      "JUMANA HASEEN P  \n",
      "\n",
      "E-mail: jumanarahoof@yahoo.com  \n",
      "Mobile: +971526104190 \n",
      "              +971567914701 \n",
      "                 \n",
      " \n",
      "\n",
      " \n",
      "\n",
      "OBJECTIVES \n",
      "\n",
      "To  work  in  the  most  challenging  positions  with  an organization  that  provides  ample \n",
      "opportunities  to  learn,  and  build  a  career,  and  to  constructively  contribute  my  acquired \n",
      "\n",
      "knowledge, skills and ideas in the field of work, to achieve the company’s objectives.\n",
      "      \n",
      " \n",
      "\n",
      "EDUCATION BACKGROUND \n",
      "\n",
      "B-Tech Degree in Electronics & Communication Engineering from Government Engineering  \n",
      "College Sreekrishnapuram, Calicut University, 2017 \n",
      " \n",
      "\n",
      "TECHNICAL SKILLS \n",
      "\n",
      "\n",
      " \n",
      "Excellent knowledge in documentation.  \n",
      "\n",
      "\n",
      " \n",
      "Programming languages: MATLAB  \n",
      "\n",
      "\n",
      " \n",
      "Operating systems: WINDOWS, UBUNTU   \n",
      "\n",
      "\n",
      " \n",
      "Application software’s: MS PowerPoint, MS Word, MS Excel, LibreOffice\n",
      "  \n",
      " \n",
      "\n",
      "ACADEMIC PROJECTS  \n",
      "\n",
      "TRAFFIC CONGESTION DETECTION USING IMAGE PROCESSING AND REROUTING   \n",
      "Project brief: The proposed system is a traffic block detection system using MATLAB with a \n",
      "real-time video and further rerouting using FPGA   \n",
      "MINI PROJECT: ELECTRONIC  NOTICE BOARD \n",
      "\n",
      "TRAININGS UNDERTAKEN  \n",
      "\n",
      " \n",
      "\n",
      "\n",
      " \n",
      "Industrial visit at ACE Components, Mysore  \n",
      "\n",
      "\n",
      " \n",
      "Industrial visit at Brahmos Delhi  \n",
      "\n",
      "\n",
      " \n",
      "Industrial visit at ISRO Earth station Delhi   \n",
      "\n",
      "\n",
      " \n",
      "TEQUIP Workshop on MATLAB GEC Pa lakkad \n",
      "\n"
     ]
    }
   ],
   "source": [
    "import PyPDF2\n",
    "pdf = open(\"jumana_resume-3 new1.pdf\", \"rb\")\n",
    "reader = PyPDF2.PdfFileReader(pdf)\n",
    "page = reader.getPage(0)\n",
    "print(page.extractText())"
   ]
  },
  {
   "cell_type": "code",
   "execution_count": null,
   "id": "f15b041d-6e43-4216-a1e8-a20b0e663c6f",
   "metadata": {},
   "outputs": [],
   "source": []
  }
 ],
 "metadata": {
  "kernelspec": {
   "display_name": "Python 3 (ipykernel)",
   "language": "python",
   "name": "python3"
  },
  "language_info": {
   "codemirror_mode": {
    "name": "ipython",
    "version": 3
   },
   "file_extension": ".py",
   "mimetype": "text/x-python",
   "name": "python",
   "nbconvert_exporter": "python",
   "pygments_lexer": "ipython3",
   "version": "3.9.7"
  }
 },
 "nbformat": 4,
 "nbformat_minor": 5
}
