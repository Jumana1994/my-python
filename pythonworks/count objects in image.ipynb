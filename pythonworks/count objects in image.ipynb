{
 "cells": [
  {
   "cell_type": "code",
   "execution_count": 1,
   "id": "3ffd1b32-6bb3-4911-a7d1-47192b448d17",
   "metadata": {},
   "outputs": [
    {
     "name": "stdout",
     "output_type": "stream",
     "text": [
      "Requirement already satisfied: cvlib in c:\\anaconda\\lib\\site-packages (0.2.7)Note: you may need to restart the kernel to use updated packages.\n",
      "Requirement already satisfied: pillow in c:\\anaconda\\lib\\site-packages (from cvlib) (8.4.0)\n",
      "Requirement already satisfied: imutils in c:\\anaconda\\lib\\site-packages (from cvlib) (0.5.4)\n",
      "Requirement already satisfied: requests in c:\\anaconda\\lib\\site-packages (from cvlib) (2.26.0)\n",
      "Requirement already satisfied: imageio in c:\\anaconda\\lib\\site-packages (from cvlib) (2.9.0)\n",
      "Requirement already satisfied: progressbar in c:\\anaconda\\lib\\site-packages (from cvlib) (2.5)\n",
      "Requirement already satisfied: numpy in c:\\anaconda\\lib\\site-packages (from cvlib) (1.20.3)\n",
      "Requirement already satisfied: certifi>=2017.4.17 in c:\\anaconda\\lib\\site-packages (from requests->cvlib) (2021.10.8)\n",
      "Requirement already satisfied: urllib3<1.27,>=1.21.1 in c:\\anaconda\\lib\\site-packages (from requests->cvlib) (1.26.7)\n",
      "Requirement already satisfied: charset-normalizer~=2.0.0 in c:\\anaconda\\lib\\site-packages (from requests->cvlib) (2.0.4)\n",
      "Requirement already satisfied: idna<4,>=2.5 in c:\\anaconda\\lib\\site-packages (from requests->cvlib) (3.2)\n",
      "\n"
     ]
    }
   ],
   "source": [
    "pip install cvlib"
   ]
  },
  {
   "cell_type": "code",
   "execution_count": null,
   "id": "ebe289e4-2d07-4494-9ddc-adffeac6337a",
   "metadata": {},
   "outputs": [],
   "source": [
    "pip install tensorflow"
   ]
  },
  {
   "cell_type": "code",
   "execution_count": null,
   "id": "df0ff64a-932f-4e26-82a9-205c5cbf661d",
   "metadata": {},
   "outputs": [],
   "source": [
    "import cv2\n",
    "import numpy as np\n",
    "import matplotlib.pyplot as plt\n",
    "import cvlib as cv\n",
    "from cvlib.object_detection import draw_bbox\n",
    "from numpy.lib.polynomial import poly\n",
    "\n",
    "image = cv2.imread(\"traffic.jpg\")\n",
    "box, label, count = cv.detect_common_objects(image)\n",
    "output = draw_bbox(image, box, label, count)\n",
    "plt.imshow(output)\n",
    "plt.show()\n",
    "print(\"Number of cars in this image are \" +str(label.count('car')))"
   ]
  },
  {
   "cell_type": "code",
   "execution_count": null,
   "id": "37cf57aa-1f7c-4439-8e1d-b87645feab46",
   "metadata": {},
   "outputs": [],
   "source": []
  }
 ],
 "metadata": {
  "kernelspec": {
   "display_name": "Python 3 (ipykernel)",
   "language": "python",
   "name": "python3"
  },
  "language_info": {
   "codemirror_mode": {
    "name": "ipython",
    "version": 3
   },
   "file_extension": ".py",
   "mimetype": "text/x-python",
   "name": "python",
   "nbconvert_exporter": "python",
   "pygments_lexer": "ipython3",
   "version": "3.9.7"
  }
 },
 "nbformat": 4,
 "nbformat_minor": 5
}
