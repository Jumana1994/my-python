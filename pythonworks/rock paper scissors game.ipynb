{
 "cells": [
  {
   "cell_type": "code",
   "execution_count": 3,
   "id": "e3b091e4-1969-4e9b-a0f1-de576ba235ac",
   "metadata": {},
   "outputs": [
    {
     "name": "stdin",
     "output_type": "stream",
     "text": [
      "select Rock,Paper or Scissors scissors\n"
     ]
    },
    {
     "name": "stdout",
     "output_type": "stream",
     "text": [
      "player2 is selectes paper\n",
      "player1 won\n"
     ]
    }
   ],
   "source": [
    "import random\n",
    "player1=input(\"select Rock,Paper or Scissors\").lower()\n",
    "player2=random.choice([\"rock\",\"Scissors\",\"paper\"]).lower()\n",
    "print(\"player2 is selectes\",player2)\n",
    "if player1==\"rock\" and player2==\"paper\":\n",
    "    print(\"player2 won\")\n",
    "elif player1==\"scissors\" and player2==\"rock\":\n",
    "    print(\"player1 won\")\n",
    "elif player1==\"paper\" and player2==\"scissors\":\n",
    "    print(\"player2 won\")\n",
    "elif player1==player2:\n",
    "    print(\"tie\")\n",
    "else:\n",
    "    print(\"player1 won\")\n",
    "\n",
    "\n"
   ]
  },
  {
   "cell_type": "code",
   "execution_count": null,
   "id": "7af4b328-41d1-4ebf-8769-d57483857401",
   "metadata": {},
   "outputs": [],
   "source": []
  }
 ],
 "metadata": {
  "kernelspec": {
   "display_name": "Python 3 (ipykernel)",
   "language": "python",
   "name": "python3"
  },
  "language_info": {
   "codemirror_mode": {
    "name": "ipython",
    "version": 3
   },
   "file_extension": ".py",
   "mimetype": "text/x-python",
   "name": "python",
   "nbconvert_exporter": "python",
   "pygments_lexer": "ipython3",
   "version": "3.9.7"
  }
 },
 "nbformat": 4,
 "nbformat_minor": 5
}
